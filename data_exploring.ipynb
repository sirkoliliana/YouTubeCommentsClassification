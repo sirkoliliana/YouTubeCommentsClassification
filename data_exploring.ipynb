{
 "cells": [
  {
   "cell_type": "code",
   "execution_count": 3,
   "id": "02ff6b6b-581f-42d9-9f83-663b5dca1ebe",
   "metadata": {},
   "outputs": [],
   "source": [
    "import pandas as pd\n",
    "import numpy as np\n",
    "import sklearn\n",
    "import seaborn as sns\n",
    "import matplotlib.pyplot as plt\n",
    "import matplotlib\n",
    "import warnings\n",
    "warnings.filterwarnings('ignore')\n",
    "np.random.seed(23)"
   ]
  },
  {
   "cell_type": "code",
   "execution_count": 4,
   "id": "d41d4fb8-ebfd-4375-a07a-b199e46f852c",
   "metadata": {
    "scrolled": true
   },
   "outputs": [],
   "source": [
    "data = pd.read_csv(\"C:/Users/Robert/Documents/Dokumenty Julii/Studia/IV Semestr/Wstęp do uczenia maszynowego/Projekt 1/YoutubeCommentsDataSet.csv\",sep = \",\")"
   ]
  },
  {
   "cell_type": "markdown",
   "id": "b9834bd8-5bf6-4446-8166-90dfdb882bf5",
   "metadata": {},
   "source": [
    "# Stworzenie zmiennej \"Comment\""
   ]
  },
  {
   "cell_type": "code",
   "execution_count": 5,
   "id": "c7778031-47cf-47aa-9c4b-1482124a390f",
   "metadata": {},
   "outputs": [
    {
     "data": {
      "text/plain": [
       "Comment           0\n",
       "Sentiment         0\n",
       "Comment_Length    0\n",
       "dtype: int64"
      ]
     },
     "execution_count": 5,
     "metadata": {},
     "output_type": "execute_result"
    }
   ],
   "source": [
    "data = data.dropna(subset = [\"Comment\"])\n",
    "data['Comment_Length'] = data['Comment'].str.len()\n",
    "data.isna().sum()"
   ]
  },
  {
   "cell_type": "code",
   "execution_count": 6,
   "id": "fcdf59fe-edb3-4761-b06a-c0b766a7adeb",
   "metadata": {},
   "outputs": [
    {
     "data": {
      "text/html": [
       "<div>\n",
       "<style scoped>\n",
       "    .dataframe tbody tr th:only-of-type {\n",
       "        vertical-align: middle;\n",
       "    }\n",
       "\n",
       "    .dataframe tbody tr th {\n",
       "        vertical-align: top;\n",
       "    }\n",
       "\n",
       "    .dataframe thead th {\n",
       "        text-align: right;\n",
       "    }\n",
       "</style>\n",
       "<table border=\"1\" class=\"dataframe\">\n",
       "  <thead>\n",
       "    <tr style=\"text-align: right;\">\n",
       "      <th></th>\n",
       "      <th>Comment_Length</th>\n",
       "    </tr>\n",
       "  </thead>\n",
       "  <tbody>\n",
       "    <tr>\n",
       "      <th>count</th>\n",
       "      <td>18364.000000</td>\n",
       "    </tr>\n",
       "    <tr>\n",
       "      <th>mean</th>\n",
       "      <td>177.554128</td>\n",
       "    </tr>\n",
       "    <tr>\n",
       "      <th>std</th>\n",
       "      <td>251.049895</td>\n",
       "    </tr>\n",
       "    <tr>\n",
       "      <th>min</th>\n",
       "      <td>2.000000</td>\n",
       "    </tr>\n",
       "    <tr>\n",
       "      <th>25%</th>\n",
       "      <td>66.000000</td>\n",
       "    </tr>\n",
       "    <tr>\n",
       "      <th>50%</th>\n",
       "      <td>113.000000</td>\n",
       "    </tr>\n",
       "    <tr>\n",
       "      <th>75%</th>\n",
       "      <td>201.000000</td>\n",
       "    </tr>\n",
       "    <tr>\n",
       "      <th>max</th>\n",
       "      <td>7847.000000</td>\n",
       "    </tr>\n",
       "  </tbody>\n",
       "</table>\n",
       "</div>"
      ],
      "text/plain": [
       "       Comment_Length\n",
       "count    18364.000000\n",
       "mean       177.554128\n",
       "std        251.049895\n",
       "min          2.000000\n",
       "25%         66.000000\n",
       "50%        113.000000\n",
       "75%        201.000000\n",
       "max       7847.000000"
      ]
     },
     "execution_count": 6,
     "metadata": {},
     "output_type": "execute_result"
    }
   ],
   "source": [
    "data.describe()"
   ]
  },
  {
   "cell_type": "markdown",
   "id": "429ae6e3-3b26-4d91-ab4d-74dcb3b9a498",
   "metadata": {},
   "source": [
    "# Rozkład zmiennej \"Sentiment\""
   ]
  },
  {
   "cell_type": "code",
   "execution_count": 7,
   "id": "c5b50f69-f3e3-4594-b3e7-9528b8416eaf",
   "metadata": {},
   "outputs": [
    {
     "data": {
      "image/png": "[encoded data removed]",
      "text/plain": [
       "<Figure size 640x480 with 1 Axes>"
      ]
     },
     "metadata": {},
     "output_type": "display_data"
    }
   ],
   "source": [
    "sentiments = sns.histplot(data['Sentiment'])\n",
    "sentiments.set_title(\"Sentiment distribution\")\n",
    "plt.show()"
   ]
  },
  {
   "cell_type": "code",
   "execution_count": 8,
   "id": "f577cc9f-01f6-4c49-8071-ae04f7b9e99c",
   "metadata": {},
   "outputs": [
    {
     "data": {
      "text/html": [
       "<div>\n",
       "<style scoped>\n",
       "    .dataframe tbody tr th:only-of-type {\n",
       "        vertical-align: middle;\n",
       "    }\n",
       "\n",
       "    .dataframe tbody tr th {\n",
       "        vertical-align: top;\n",
       "    }\n",
       "\n",
       "    .dataframe thead th {\n",
       "        text-align: right;\n",
       "    }\n",
       "</style>\n",
       "<table border=\"1\" class=\"dataframe\">\n",
       "  <thead>\n",
       "    <tr style=\"text-align: right;\">\n",
       "      <th></th>\n",
       "      <th>Comment</th>\n",
       "      <th>Sentiment</th>\n",
       "      <th>Comment_Length</th>\n",
       "    </tr>\n",
       "  </thead>\n",
       "  <tbody>\n",
       "    <tr>\n",
       "      <th>0</th>\n",
       "      <td>lets not forget that apple pay in 2014 require...</td>\n",
       "      <td>neutral</td>\n",
       "      <td>317</td>\n",
       "    </tr>\n",
       "    <tr>\n",
       "      <th>1</th>\n",
       "      <td>here in nz 50 of retailers don’t even have con...</td>\n",
       "      <td>negative</td>\n",
       "      <td>163</td>\n",
       "    </tr>\n",
       "    <tr>\n",
       "      <th>2</th>\n",
       "      <td>i will forever acknowledge this channel with t...</td>\n",
       "      <td>positive</td>\n",
       "      <td>183</td>\n",
       "    </tr>\n",
       "    <tr>\n",
       "      <th>3</th>\n",
       "      <td>whenever i go to a place that doesn’t take app...</td>\n",
       "      <td>negative</td>\n",
       "      <td>450</td>\n",
       "    </tr>\n",
       "    <tr>\n",
       "      <th>4</th>\n",
       "      <td>apple pay is so convenient secure and easy to ...</td>\n",
       "      <td>positive</td>\n",
       "      <td>135</td>\n",
       "    </tr>\n",
       "    <tr>\n",
       "      <th>...</th>\n",
       "      <td>...</td>\n",
       "      <td>...</td>\n",
       "      <td>...</td>\n",
       "    </tr>\n",
       "    <tr>\n",
       "      <th>18403</th>\n",
       "      <td>i really like the point about engineering tool...</td>\n",
       "      <td>positive</td>\n",
       "      <td>277</td>\n",
       "    </tr>\n",
       "    <tr>\n",
       "      <th>18404</th>\n",
       "      <td>i’ve just started exploring this field and thi...</td>\n",
       "      <td>positive</td>\n",
       "      <td>118</td>\n",
       "    </tr>\n",
       "    <tr>\n",
       "      <th>18405</th>\n",
       "      <td>excelente video con una pregunta filosófica pr...</td>\n",
       "      <td>neutral</td>\n",
       "      <td>244</td>\n",
       "    </tr>\n",
       "    <tr>\n",
       "      <th>18406</th>\n",
       "      <td>hey daniel just discovered your channel a coup...</td>\n",
       "      <td>positive</td>\n",
       "      <td>88</td>\n",
       "    </tr>\n",
       "    <tr>\n",
       "      <th>18407</th>\n",
       "      <td>this is great focus is key a playful approach ...</td>\n",
       "      <td>positive</td>\n",
       "      <td>404</td>\n",
       "    </tr>\n",
       "  </tbody>\n",
       "</table>\n",
       "<p>18364 rows × 3 columns</p>\n",
       "</div>"
      ],
      "text/plain": [
       "                                                 Comment Sentiment  \\\n",
       "0      lets not forget that apple pay in 2014 require...   neutral   \n",
       "1      here in nz 50 of retailers don’t even have con...  negative   \n",
       "2      i will forever acknowledge this channel with t...  positive   \n",
       "3      whenever i go to a place that doesn’t take app...  negative   \n",
       "4      apple pay is so convenient secure and easy to ...  positive   \n",
       "...                                                  ...       ...   \n",
       "18403  i really like the point about engineering tool...  positive   \n",
       "18404  i’ve just started exploring this field and thi...  positive   \n",
       "18405  excelente video con una pregunta filosófica pr...   neutral   \n",
       "18406  hey daniel just discovered your channel a coup...  positive   \n",
       "18407  this is great focus is key a playful approach ...  positive   \n",
       "\n",
       "       Comment_Length  \n",
       "0                 317  \n",
       "1                 163  \n",
       "2                 183  \n",
       "3                 450  \n",
       "4                 135  \n",
       "...               ...  \n",
       "18403             277  \n",
       "18404             118  \n",
       "18405             244  \n",
       "18406              88  \n",
       "18407             404  \n",
       "\n",
       "[18364 rows x 3 columns]"
      ]
     },
     "execution_count": 8,
     "metadata": {},
     "output_type": "execute_result"
    }
   ],
   "source": [
    "data"
   ]
  },
  {
   "cell_type": "markdown",
   "id": "875406f3-94c3-489e-9a47-64fb15d8110d",
   "metadata": {},
   "source": [
    "# Rozkład zmiennej \"Comment\""
   ]
  },
  {
   "cell_type": "code",
   "execution_count": 9,
   "id": "9a2e7716-5c7b-4cab-8c47-c2ed78caab26",
   "metadata": {},
   "outputs": [
    {
     "data": {
      "text/plain": [
       "<Axes: xlabel='Comment_Length', ylabel='Count'>"
      ]
     },
     "execution_count": 9,
     "metadata": {},
     "output_type": "execute_result"
    },
    {
     "data": {
      "image/png": "[encoded data removed]",
      "text/plain": [
       "<Figure size 640x480 with 1 Axes>"
      ]
     },
     "metadata": {},
     "output_type": "display_data"
    }
   ],
   "source": [
    "sns.histplot(data['Comment_Length'])"
   ]
  },
  {
   "cell_type": "code",
   "execution_count": 10,
   "id": "3bd3aaec-a469-49df-87b7-88e2eecf777c",
   "metadata": {},
   "outputs": [
    {
     "data": {
      "text/plain": [
       "count    18364.000000\n",
       "mean       177.554128\n",
       "std        251.049895\n",
       "min          2.000000\n",
       "25%         66.000000\n",
       "50%        113.000000\n",
       "75%        201.000000\n",
       "max       7847.000000\n",
       "Name: Comment_Length, dtype: float64"
      ]
     },
     "execution_count": 10,
     "metadata": {},
     "output_type": "execute_result"
    }
   ],
   "source": [
    "data['Comment_Length'].describe()"
   ]
  },
  {
   "cell_type": "code",
   "execution_count": 11,
   "id": "64ef06a6-3d3d-46b5-8bc4-aed40e51d8b3",
   "metadata": {},
   "outputs": [
    {
     "data": {
      "text/plain": [
       "0        317\n",
       "1        163\n",
       "2        183\n",
       "3        450\n",
       "4        135\n",
       "        ... \n",
       "18403    277\n",
       "18404    118\n",
       "18405    244\n",
       "18406     88\n",
       "18407    404\n",
       "Name: Comment_Length, Length: 18364, dtype: int64"
      ]
     },
     "execution_count": 11,
     "metadata": {},
     "output_type": "execute_result"
    }
   ],
   "source": [
    "data['Comment_Length']"
   ]
  },
  {
   "cell_type": "code",
   "execution_count": 12,
   "id": "111f2ea1-7522-434f-bf5c-43259a13dddf",
   "metadata": {},
   "outputs": [
    {
     "data": {
      "text/html": [
       "<div>\n",
       "<style scoped>\n",
       "    .dataframe tbody tr th:only-of-type {\n",
       "        vertical-align: middle;\n",
       "    }\n",
       "\n",
       "    .dataframe tbody tr th {\n",
       "        vertical-align: top;\n",
       "    }\n",
       "\n",
       "    .dataframe thead th {\n",
       "        text-align: right;\n",
       "    }\n",
       "</style>\n",
       "<table border=\"1\" class=\"dataframe\">\n",
       "  <thead>\n",
       "    <tr style=\"text-align: right;\">\n",
       "      <th></th>\n",
       "      <th>Comment</th>\n",
       "      <th>Sentiment</th>\n",
       "      <th>Comment_Length</th>\n",
       "    </tr>\n",
       "  </thead>\n",
       "  <tbody>\n",
       "    <tr>\n",
       "      <th>16473</th>\n",
       "      <td>jó</td>\n",
       "      <td>neutral</td>\n",
       "      <td>2</td>\n",
       "    </tr>\n",
       "    <tr>\n",
       "      <th>11631</th>\n",
       "      <td>哈哈</td>\n",
       "      <td>neutral</td>\n",
       "      <td>2</td>\n",
       "    </tr>\n",
       "    <tr>\n",
       "      <th>10926</th>\n",
       "      <td>6th</td>\n",
       "      <td>positive</td>\n",
       "      <td>3</td>\n",
       "    </tr>\n",
       "    <tr>\n",
       "      <th>11112</th>\n",
       "      <td>wow</td>\n",
       "      <td>positive</td>\n",
       "      <td>3</td>\n",
       "    </tr>\n",
       "    <tr>\n",
       "      <th>10520</th>\n",
       "      <td>bye</td>\n",
       "      <td>neutral</td>\n",
       "      <td>3</td>\n",
       "    </tr>\n",
       "    <tr>\n",
       "      <th>...</th>\n",
       "      <td>...</td>\n",
       "      <td>...</td>\n",
       "      <td>...</td>\n",
       "    </tr>\n",
       "    <tr>\n",
       "      <th>11370</th>\n",
       "      <td>i found this very interesting and as someone w...</td>\n",
       "      <td>positive</td>\n",
       "      <td>5487</td>\n",
       "    </tr>\n",
       "    <tr>\n",
       "      <th>10493</th>\n",
       "      <td>tracklist 0000 kanisan ft wishes and dreams m...</td>\n",
       "      <td>neutral</td>\n",
       "      <td>5586</td>\n",
       "    </tr>\n",
       "    <tr>\n",
       "      <th>18276</th>\n",
       "      <td>000000 00 introduction to the video speaker ml...</td>\n",
       "      <td>neutral</td>\n",
       "      <td>5597</td>\n",
       "    </tr>\n",
       "    <tr>\n",
       "      <th>16407</th>\n",
       "      <td>description of exclusive video footage 110 pan...</td>\n",
       "      <td>neutral</td>\n",
       "      <td>6031</td>\n",
       "    </tr>\n",
       "    <tr>\n",
       "      <th>3984</th>\n",
       "      <td>timestamps this took forever v2 001 intro ————...</td>\n",
       "      <td>neutral</td>\n",
       "      <td>7847</td>\n",
       "    </tr>\n",
       "  </tbody>\n",
       "</table>\n",
       "<p>18364 rows × 3 columns</p>\n",
       "</div>"
      ],
      "text/plain": [
       "                                                 Comment Sentiment  \\\n",
       "16473                                                 jó   neutral   \n",
       "11631                                                 哈哈   neutral   \n",
       "10926                                                6th  positive   \n",
       "11112                                                wow  positive   \n",
       "10520                                                bye   neutral   \n",
       "...                                                  ...       ...   \n",
       "11370  i found this very interesting and as someone w...  positive   \n",
       "10493   tracklist 0000 kanisan ft wishes and dreams m...   neutral   \n",
       "18276  000000 00 introduction to the video speaker ml...   neutral   \n",
       "16407  description of exclusive video footage 110 pan...   neutral   \n",
       "3984   timestamps this took forever v2 001 intro ————...   neutral   \n",
       "\n",
       "       Comment_Length  \n",
       "16473               2  \n",
       "11631               2  \n",
       "10926               3  \n",
       "11112               3  \n",
       "10520               3  \n",
       "...               ...  \n",
       "11370            5487  \n",
       "10493            5586  \n",
       "18276            5597  \n",
       "16407            6031  \n",
       "3984             7847  \n",
       "\n",
       "[18364 rows x 3 columns]"
      ]
     },
     "execution_count": 12,
     "metadata": {},
     "output_type": "execute_result"
    }
   ],
   "source": [
    "data.sort_values(by=\"Comment_Length\", ascending = True)"
   ]
  },
  {
   "cell_type": "code",
   "execution_count": 13,
   "id": "0da29fa2-2519-4c2a-8c55-a7ba824250f7",
   "metadata": {},
   "outputs": [
    {
     "name": "stdout",
     "output_type": "stream",
     "text": [
      "<class 'pandas.core.frame.DataFrame'>\n",
      "Index: 18364 entries, 0 to 18407\n",
      "Data columns (total 3 columns):\n",
      " #   Column          Non-Null Count  Dtype \n",
      "---  ------          --------------  ----- \n",
      " 0   Comment         18364 non-null  object\n",
      " 1   Sentiment       18364 non-null  object\n",
      " 2   Comment_Length  18364 non-null  int64 \n",
      "dtypes: int64(1), object(2)\n",
      "memory usage: 573.9+ KB\n"
     ]
    }
   ],
   "source": [
    "data.info()"
   ]
  },
  {
   "cell_type": "code",
   "execution_count": 24,
   "id": "f011a50b-79c8-4dcb-8f7f-fca25a866c8f",
   "metadata": {},
   "outputs": [],
   "source": [
    "bins = [0, data['Comment_Length'].quantile(0.25), data['Comment_Length'].quantile(0.5), data['Comment_Length'].quantile(0.75), data['Comment_Length'].max()]\n",
    "labels = ['short', 'medium', 'long', 'very long']\n",
    "data['Comment_Length_Binned'] = pd.cut(data['Comment_Length'],bins = bins, labels = labels, right = False)"
   ]
  },
  {
   "cell_type": "code",
   "execution_count": 25,
   "id": "da8ba083-adf5-4367-9807-c95319c27308",
   "metadata": {},
   "outputs": [
    {
     "data": {
      "text/plain": [
       "<Axes: xlabel='Comment_Length_Binned', ylabel='Count'>"
      ]
     },
     "execution_count": 25,
     "metadata": {},
     "output_type": "execute_result"
    },
    {
     "data": {
      "image/png": "[encoded data removed]",
      "text/plain": [
       "<Figure size 640x480 with 1 Axes>"
      ]
     },
     "metadata": {},
     "output_type": "display_data"
    }
   ],
   "source": [
    "sns.histplot(data['Comment_Length_Binned'])"
   ]
  },
  {
   "cell_type": "markdown",
   "id": "741cea00-d5b0-4c32-9d60-95de48bff07c",
   "metadata": {},
   "source": [
    "# Stworzenie zmiennej \"Starts_with_i\""
   ]
  },
  {
   "cell_type": "code",
   "execution_count": 14,
   "id": "a3b08802-48d9-4a53-9f01-523eb9272700",
   "metadata": {},
   "outputs": [],
   "source": [
    "data['Starts_with_i'] = data['Comment'].str.startswith(\"i\")"
   ]
  },
  {
   "cell_type": "code",
   "execution_count": 15,
   "id": "97b10e47-328a-4f52-890d-43b4c2ccad89",
   "metadata": {},
   "outputs": [],
   "source": [
    "start_i = data[data['Starts_with_i'] == True]"
   ]
  },
  {
   "cell_type": "code",
   "execution_count": 16,
   "id": "305b03f9-2893-48a2-b950-6e785fdad553",
   "metadata": {},
   "outputs": [
    {
     "data": {
      "text/html": [
       "<div>\n",
       "<style scoped>\n",
       "    .dataframe tbody tr th:only-of-type {\n",
       "        vertical-align: middle;\n",
       "    }\n",
       "\n",
       "    .dataframe tbody tr th {\n",
       "        vertical-align: top;\n",
       "    }\n",
       "\n",
       "    .dataframe thead th {\n",
       "        text-align: right;\n",
       "    }\n",
       "</style>\n",
       "<table border=\"1\" class=\"dataframe\">\n",
       "  <thead>\n",
       "    <tr style=\"text-align: right;\">\n",
       "      <th></th>\n",
       "      <th>Comment</th>\n",
       "      <th>Sentiment</th>\n",
       "      <th>Comment_Length</th>\n",
       "      <th>Starts_with_i</th>\n",
       "    </tr>\n",
       "  </thead>\n",
       "  <tbody>\n",
       "    <tr>\n",
       "      <th>2</th>\n",
       "      <td>i will forever acknowledge this channel with t...</td>\n",
       "      <td>positive</td>\n",
       "      <td>183</td>\n",
       "      <td>True</td>\n",
       "    </tr>\n",
       "    <tr>\n",
       "      <th>8</th>\n",
       "      <td>in the united states we have an abundance of r...</td>\n",
       "      <td>positive</td>\n",
       "      <td>209</td>\n",
       "      <td>True</td>\n",
       "    </tr>\n",
       "    <tr>\n",
       "      <th>9</th>\n",
       "      <td>in cambodia we have a universal qr code system...</td>\n",
       "      <td>neutral</td>\n",
       "      <td>227</td>\n",
       "      <td>True</td>\n",
       "    </tr>\n",
       "    <tr>\n",
       "      <th>15</th>\n",
       "      <td>i love the direction this channel is going mos...</td>\n",
       "      <td>positive</td>\n",
       "      <td>306</td>\n",
       "      <td>True</td>\n",
       "    </tr>\n",
       "    <tr>\n",
       "      <th>16</th>\n",
       "      <td>i am more excited for the ltt lab than i have ...</td>\n",
       "      <td>positive</td>\n",
       "      <td>194</td>\n",
       "      <td>True</td>\n",
       "    </tr>\n",
       "    <tr>\n",
       "      <th>...</th>\n",
       "      <td>...</td>\n",
       "      <td>...</td>\n",
       "      <td>...</td>\n",
       "      <td>...</td>\n",
       "    </tr>\n",
       "    <tr>\n",
       "      <th>18399</th>\n",
       "      <td>i came for a machine learning related talk but...</td>\n",
       "      <td>positive</td>\n",
       "      <td>280</td>\n",
       "      <td>True</td>\n",
       "    </tr>\n",
       "    <tr>\n",
       "      <th>18400</th>\n",
       "      <td>ive worked for about 2 years with mlcomputer v...</td>\n",
       "      <td>positive</td>\n",
       "      <td>777</td>\n",
       "      <td>True</td>\n",
       "    </tr>\n",
       "    <tr>\n",
       "      <th>18401</th>\n",
       "      <td>i come from a physics background and usually w...</td>\n",
       "      <td>positive</td>\n",
       "      <td>609</td>\n",
       "      <td>True</td>\n",
       "    </tr>\n",
       "    <tr>\n",
       "      <th>18403</th>\n",
       "      <td>i really like the point about engineering tool...</td>\n",
       "      <td>positive</td>\n",
       "      <td>277</td>\n",
       "      <td>True</td>\n",
       "    </tr>\n",
       "    <tr>\n",
       "      <th>18404</th>\n",
       "      <td>i’ve just started exploring this field and thi...</td>\n",
       "      <td>positive</td>\n",
       "      <td>118</td>\n",
       "      <td>True</td>\n",
       "    </tr>\n",
       "  </tbody>\n",
       "</table>\n",
       "<p>4174 rows × 4 columns</p>\n",
       "</div>"
      ],
      "text/plain": [
       "                                                 Comment Sentiment  \\\n",
       "2      i will forever acknowledge this channel with t...  positive   \n",
       "8      in the united states we have an abundance of r...  positive   \n",
       "9      in cambodia we have a universal qr code system...   neutral   \n",
       "15     i love the direction this channel is going mos...  positive   \n",
       "16     i am more excited for the ltt lab than i have ...  positive   \n",
       "...                                                  ...       ...   \n",
       "18399  i came for a machine learning related talk but...  positive   \n",
       "18400  ive worked for about 2 years with mlcomputer v...  positive   \n",
       "18401  i come from a physics background and usually w...  positive   \n",
       "18403  i really like the point about engineering tool...  positive   \n",
       "18404  i’ve just started exploring this field and thi...  positive   \n",
       "\n",
       "       Comment_Length  Starts_with_i  \n",
       "2                 183           True  \n",
       "8                 209           True  \n",
       "9                 227           True  \n",
       "15                306           True  \n",
       "16                194           True  \n",
       "...               ...            ...  \n",
       "18399             280           True  \n",
       "18400             777           True  \n",
       "18401             609           True  \n",
       "18403             277           True  \n",
       "18404             118           True  \n",
       "\n",
       "[4174 rows x 4 columns]"
      ]
     },
     "execution_count": 16,
     "metadata": {},
     "output_type": "execute_result"
    }
   ],
   "source": [
    "start_i"
   ]
  },
  {
   "cell_type": "code",
   "execution_count": 17,
   "id": "5860f26b-8924-4c74-99d4-8b811f170277",
   "metadata": {},
   "outputs": [
    {
     "data": {
      "text/plain": [
       "<Axes: xlabel='Sentiment', ylabel='Count'>"
      ]
     },
     "execution_count": 17,
     "metadata": {},
     "output_type": "execute_result"
    },
    {
     "data": {
      "image/png": "[encoded data removed]",
      "text/plain": [
       "<Figure size 640x480 with 1 Axes>"
      ]
     },
     "metadata": {},
     "output_type": "display_data"
    }
   ],
   "source": [
    "sns.histplot(start_i['Sentiment'])"
   ]
  }
 ],
 "metadata": {
  "kernelspec": {
   "display_name": "Python 3 (ipykernel)",
   "language": "python",
   "name": "python3"
  },
  "language_info": {
   "codemirror_mode": {
    "name": "ipython",
    "version": 3
   },
   "file_extension": ".py",
   "mimetype": "text/x-python",
   "name": "python",
   "nbconvert_exporter": "python",
   "pygments_lexer": "ipython3",
   "version": "3.13.2"
  }
 },
 "nbformat": 4,
 "nbformat_minor": 5
}
