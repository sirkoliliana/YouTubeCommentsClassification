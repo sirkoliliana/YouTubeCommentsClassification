{
 "cells": [
  {
   "cell_type": "markdown",
   "metadata": {
    "vscode": {
     "languageId": "plaintext"
    }
   },
   "source": [
    "# Milestone II"
   ]
  },
  {
   "cell_type": "code",
   "execution_count": null,
   "metadata": {},
   "outputs": [],
   "source": [
    "import pandas as pd\n",
    "import numpy as np\n",
    "import re\n",
    "import pickle\n",
    "import string\n",
    "import warnings\n",
    "import seaborn as sns\n",
    "import matplotlib.pyplot as plt\n",
    "from sklearn.model_selection import train_test_split, GridSearchCV\n",
    "from sklearn.ensemble import RandomForestClassifier\n",
    "from sklearn.linear_model import LogisticRegression\n",
    "from sklearn.svm import SVC\n",
    "from sklearn.metrics import accuracy_score, classification_report\n",
    "import nltk\n",
    "from collections import Counter\n",
    "from textstat import textstat\n",
    "from sklearn.utils import resample\n",
    "from sklearn.pipeline import Pipeline\n",
    "from sklearn.compose import ColumnTransformer\n",
    "from sklearn.preprocessing import FunctionTransformer\n",
    "from sklearn.feature_extraction.text import TfidfVectorizer\n",
    "\n",
    "# NLTK imports\n",
    "import nltk\n",
    "from nltk.tokenize import word_tokenize, sent_tokenize\n",
    "from nltk.corpus import stopwords\n",
    "from nltk.sentiment.vader import SentimentIntensityAnalyzer\n",
    "\n",
    "# NLTK downloads\n",
    "nltk.download(\"punkt\")\n",
    "nltk.download(\"stopwords\")\n",
    "nltk.download(\"vader_lexicon\")\n",
    "\n",
    "# Ignore warnings\n",
    "warnings.filterwarnings('ignore')\n"
   ]
  },
  {
   "cell_type": "code",
   "execution_count": null,
   "metadata": {},
   "outputs": [],
   "source": [
    "df = pd.read_csv(\"YoutubeCommentsDataSet_Balanced.csv\")\n",
    "df.head()"
   ]
  },
  {
   "cell_type": "markdown",
   "metadata": {},
   "source": [
    "Ramka df zawiera kolumny Comment, Sentiment oraz Comment_preprocessed. Zbiór ten jest zbalansowany pod względem sentymentów, oczysczony i pozbawiony duplikatów.\n",
    "Comment_preprocessed zawiera komentarze z usuniętymi stopwords. Pozostawiłyśmy kolumnę Comment bez zmian, gdyż będziemy jej potrzebować do stworzenia niektórych cech  istotnych w budowie modelu."
   ]
  },
  {
   "cell_type": "markdown",
   "metadata": {},
   "source": [
    "# Inżynieria cech"
   ]
  },
  {
   "cell_type": "markdown",
   "metadata": {},
   "source": [
    "W kontekście naszych danych stwierdziłyśmy, że przydatne będą następujące cechy:\n",
    "- Sentiment_Score_nltk (ciągły wskaźnik sentymentu komentarza o warotściach [-1, 1])\n",
    "- Comment_length (długość komentarza)\n",
    "- Starts_with_i (czy komentarz zaczyna się od I)\n",
    "- Personal_Pronoun_count (liczba zaimków osobowych, takich jak he, she, i, etc.)\n",
    "- Number_of_phrases (czyli podział komentarza według spójników \"but\", \"and\", \"because\")\n",
    "- Avg_phrase_length (średnia długość frazy)\n",
    "- Number_of_words (liczba słów)\n",
    "- Avg_word_length (średnia długość słów)\n",
    "- Unique_word_ratio (stosunek liczby unikalnych słów do wszystkich słów, im większa tym bardziej rozbudowane słownictwo)\n",
    "- Readibility_Score (wskaźnik czytelności tekstu mierzony za pomocą Flesch Reading Ease)\n",
    "- Negation_Count (ilość negacji w komentarzu, czyli słów, które wprowadzają zaprzeczenie np. \"not\",\"never\",\"nobody\",\"dont\" itp.)\n",
    "- Rare_Word_Count (Liczenie rzadkich słów na podstawie ich częstotliwości w całym zbiorze danych)\n"
   ]
  },
  {
   "cell_type": "markdown",
   "metadata": {},
   "source": [
    "### Zmienna Sentiment_Score_nltk"
   ]
  },
  {
   "cell_type": "code",
   "execution_count": null,
   "metadata": {},
   "outputs": [],
   "source": [
    "# Funkcja do obliczania Sentiment Score za pomocą NLTK\n",
    "sia = SentimentIntensityAnalyzer()\n",
    "def sentiment_score(comment):\n",
    "    return sia.polarity_scores(comment)['compound']"
   ]
  },
  {
   "cell_type": "markdown",
   "metadata": {},
   "source": [
    "### Zmienna Personal_Pronun_Count"
   ]
  },
  {
   "cell_type": "code",
   "execution_count": null,
   "metadata": {},
   "outputs": [],
   "source": [
    "# Funkcja do liczenia liczby zaimków osobistych\n",
    "personal_pronouns = {\"i\", \"me\", \"my\", \"mine\", \"myself\", \"we\", \"us\", \"our\", \"ours\", \"ourselves\",\n",
    "                     \"you\", \"your\", \"yours\", \"yourself\", \"yourselves\", \"he\", \"him\", \"his\", \"himself\",\n",
    "                     \"she\", \"her\", \"hers\", \"herself\", \"it\", \"its\", \"itself\", \"they\", \"them\", \"their\",\n",
    "                     \"theirs\", \"themselves\"}\n",
    "\n",
    "def count_personal_pronouns(comment):\n",
    "    words = word_tokenize(comment.lower())\n",
    "    return sum(1 for word in words if word in personal_pronouns)"
   ]
  },
  {
   "cell_type": "markdown",
   "metadata": {},
   "source": [
    "### Zmienne Number_of_phrases, Number_of_words, Avg_phrase_length, Avg_word_length, Unique_word_ratio"
   ]
  },
  {
   "cell_type": "code",
   "execution_count": null,
   "metadata": {},
   "outputs": [],
   "source": [
    "# Funkcja do analizy złożoności zdań (np. liczba fraz, słów)\n",
    "connectors = [\"and\", \"but\", \"so\", \"because\", \"which\", \"that\", \"then\", \"if\", \"or\"]\n",
    "def sentence_complexity(comment):\n",
    "    words = word_tokenize(comment)\n",
    "    phrases = re.split(r'\\b(?:' + '|'.join(connectors) + r')\\b', comment)\n",
    "\n",
    "    num_words = len(words)\n",
    "    num_phrases = len(phrases)\n",
    "\n",
    "    avg_word_length = np.mean([len(word) for word in words]) if words else 0\n",
    "    avg_phrase_length = num_words / num_phrases if num_phrases > 0 else 0\n",
    "    unique_word_ratio = len(set(words)) / num_words if num_words > 0 else 0\n",
    "\n",
    "    return {\n",
    "        \"Number_of_phrases\": num_phrases,\n",
    "        \"Number_of_words\": num_words,\n",
    "        \"Avg_phrase_length\": avg_phrase_length,\n",
    "        \"Avg_word_length\": avg_word_length,\n",
    "        \"Unique_word_ratio\": unique_word_ratio\n",
    "    }\n"
   ]
  },
  {
   "cell_type": "markdown",
   "metadata": {},
   "source": [
    "### Zmienna Readability_Score"
   ]
  },
  {
   "cell_type": "code",
   "execution_count": null,
   "metadata": {},
   "outputs": [],
   "source": [
    "# Funkcja do obliczania readability score\n",
    "def readability_score(comment):\n",
    "    return textstat.flesch_reading_ease(comment)"
   ]
  },
  {
   "cell_type": "markdown",
   "metadata": {},
   "source": [
    "### Zmienna Negation_Count"
   ]
  },
  {
   "cell_type": "code",
   "execution_count": null,
   "metadata": {},
   "outputs": [],
   "source": [
    "# Funkcja do liczenia negacji\n",
    "def negation_count(comment):\n",
    "    negations = {\"not\", \"never\", \"no\", \"none\", \"cannot\", \"nothing\",\"dont\",\"nah\",'wont','cant','doesnt','shouldnt',\"shouldn't\",\"doesn't\"\n",
    "                 \"don't\",\"won't\",\"wouldn't\", \"can't\",\"nobody\",'neither','nope',\"ain't\",\"nowhere\",'wouldnt'}\n",
    "    words = word_tokenize(comment.lower())\n",
    "    return sum(1 for word in words if word in negations)"
   ]
  },
  {
   "cell_type": "markdown",
   "metadata": {},
   "source": [
    "### Zmienna Rare_Word_Count"
   ]
  },
  {
   "cell_type": "code",
   "execution_count": null,
   "metadata": {},
   "outputs": [],
   "source": [
    "# Funkcja do liczenia rzadkich słów\n",
    "def rare_word_count(comment, all_words):\n",
    "    words = word_tokenize(comment.lower())\n",
    "    rare_words = [word for word in words if all_words[word] < 10]  # Możemy dostosować próg (tutaj <10)\n",
    "    return len(rare_words)"
   ]
  },
  {
   "cell_type": "markdown",
   "metadata": {},
   "source": [
    "### Embedding"
   ]
  },
  {
   "cell_type": "code",
   "execution_count": null,
   "metadata": {},
   "outputs": [],
   "source": [
    "# Function to apply TF-IDF embedding on preprocessed comments\n",
    "def apply_tfidf(df):\n",
    "    tfidf = TfidfVectorizer(max_features=300)\n",
    "    tfidf_matrix = tfidf.fit_transform(df['Comment_preprocessed']).toarray()\n",
    "    tfidf_df = pd.DataFrame(tfidf_matrix, columns=[f\"tfidf_{i}\" for i in range(tfidf_matrix.shape[1])])\n",
    "    \n",
    "    return pd.concat([df.reset_index(drop=True), tfidf_df], axis=1)"
   ]
  },
  {
   "cell_type": "markdown",
   "metadata": {},
   "source": [
    "Przygotowujemy cechy:"
   ]
  },
  {
   "cell_type": "code",
   "execution_count": null,
   "metadata": {},
   "outputs": [],
   "source": [
    "# Funkcja do przygotowania cech\n",
    "def prepare_features(df):\n",
    "    # Dodajemy cechy do DataFrame\n",
    "    df['Sentiment_Score_nltk'] = df['Comment'].apply(sentiment_score)\n",
    "    df['Starts_with_i'] = df['Comment'].str.startswith(\"i\")\n",
    "    df['Comment_Length'] = df['Comment'].str.len()\n",
    "    \n",
    "    sentiment_mapping = {'negative': -1, 'neutral': 0, 'positive': 1}\n",
    "    df['Sentiment_num'] = df['Sentiment'].map(sentiment_mapping)\n",
    "\n",
    "    df[\"Personal_Pronoun_count\"] = df[\"Comment\"].apply(count_personal_pronouns)\n",
    "    df[\"Readability_Score\"] = df[\"Comment\"].apply(readability_score)\n",
    "    df[\"Negation_Count\"] = df[\"Comment\"].apply(negation_count)\n",
    "\n",
    "    df_complexity = df[\"Comment\"].apply(lambda x: sentence_complexity(x))\n",
    "    df_complexity = pd.DataFrame(df_complexity.tolist())\n",
    "    df = pd.concat([df, df_complexity], axis=1)\n",
    "\n",
    "    # Liczenie rzadkich słów\n",
    "    all_words = Counter(' '.join(df['Comment']).lower().split())\n",
    "    df['Rare_Word_Count'] = df['Comment'].apply(lambda x: rare_word_count(x, all_words))\n",
    "\n",
    "    df['Emotion'] = df[\"Comment\"].apply(lambda x: extract_emotions(x))\n",
    "\n",
    "    TF-IDF Embeddings**\n",
    "    tfidf = TfidfVectorizer(max_features=300)\n",
    "    tfidf_matrix = tfidf.fit_transform(df['Comment']).toarray()\n",
    "    tfidf_df = pd.DataFrame(tfidf_matrix, columns=[f\"tfidf_{i}\" for i in range(tfidf_matrix.shape[1])])\n",
    "    \n",
    "    df = pd.concat([df.reset_index(drop=True), tfidf_df], axis=1)\n",
    "\n",
    "    return df"
   ]
  },
  {
   "cell_type": "markdown",
   "metadata": {},
   "source": [
    "Budujemy pipeline:"
   ]
  },
  {
   "cell_type": "code",
   "execution_count": null,
   "metadata": {},
   "outputs": [],
   "source": [
    "def build_feature_pipeline():\n",
    "    preprocessor = ColumnTransformer(\n",
    "        transformers=[\n",
    "            (\"text_features\", FunctionTransformer(prepare_features), ['Comment']),\n",
    "            (\"tfidf_features\", FunctionTransformer(apply_tfidf), ['Comment_preprocessed'])\n",
    "        ]\n",
    "    )\n",
    "\n",
    "    pipeline = Pipeline(steps=[\n",
    "        ('preprocessor', preprocessor)\n",
    "    ])\n",
    "    \n",
    "    return pipeline\n",
    "\n",
    "# Tworzenie i zapisanie pipeline\n",
    "pipeline = build_feature_pipeline()\n",
    "\n",
    "with open(\"feature_pipeline.pkl\", \"wb\") as file:\n",
    "    pickle.dump(pipeline, file) "
   ]
  },
  {
   "cell_type": "markdown",
   "metadata": {},
   "source": [
    "Aplikujemy wszystkie features na naszym zbiorze:"
   ]
  },
  {
   "cell_type": "code",
   "execution_count": null,
   "metadata": {},
   "outputs": [],
   "source": [
    "df = prepare_features(df)\n",
    "df.head()"
   ]
  },
  {
   "cell_type": "markdown",
   "metadata": {},
   "source": [
    "## Macierz korelacji"
   ]
  },
  {
   "cell_type": "code",
   "execution_count": null,
   "metadata": {},
   "outputs": [],
   "source": [
    "corr_matrix = df.drop(columns=[\"Comment\", \"Sentiment\",\"Comment_preprocessed\"]).corr()\n",
    "\n",
    "plt.figure(figsize=(8,6))\n",
    "sns.heatmap(corr_matrix, annot=True, cmap='coolwarm', fmt=\".2f\", linewidths=0.5)\n",
    "plt.title(\"Feature Correlation Heatmap\")\n",
    "plt.show()"
   ]
  },
  {
   "cell_type": "markdown",
   "metadata": {},
   "source": [
    "Widać, że zmienne Number_of_words, Number_of_phrases i Comment_Length są silnie skorelowane, dlatego pod uwagę weźniemy tylko jedną z tych cech. "
   ]
  },
  {
   "cell_type": "markdown",
   "metadata": {},
   "source": [
    "# Wybór modelu"
   ]
  }
 ],
 "metadata": {
  "kernelspec": {
   "display_name": "Python 3",
   "language": "python",
   "name": "python3"
  },
  "language_info": {
   "codemirror_mode": {
    "name": "ipython",
    "version": 3
   },
   "file_extension": ".py",
   "mimetype": "text/x-python",
   "name": "python",
   "nbconvert_exporter": "python",
   "pygments_lexer": "ipython3",
   "version": "3.13.2"
  }
 },
 "nbformat": 4,
 "nbformat_minor": 2
}
