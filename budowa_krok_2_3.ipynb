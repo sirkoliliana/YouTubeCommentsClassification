{
 "cells": [
  {
   "cell_type": "markdown",
   "metadata": {},
   "source": [
    "# Milestone II"
   ]
  },
  {
   "cell_type": "code",
   "execution_count": 127,
   "metadata": {},
   "outputs": [
    {
     "name": "stderr",
     "output_type": "stream",
     "text": [
      "[nltk_data] Downloading package punkt to /Users/lila/nltk_data...\n",
      "[nltk_data]   Package punkt is already up-to-date!\n",
      "[nltk_data] Downloading package stopwords to /Users/lila/nltk_data...\n",
      "[nltk_data]   Package stopwords is already up-to-date!\n",
      "[nltk_data] Downloading package vader_lexicon to\n",
      "[nltk_data]     /Users/lila/nltk_data...\n",
      "[nltk_data]   Package vader_lexicon is already up-to-date!\n"
     ]
    }
   ],
   "source": [
    "import pandas as pd\n",
    "import numpy as np\n",
    "import re\n",
    "import pickle\n",
    "import string\n",
    "import warnings\n",
    "import seaborn as sns\n",
    "import matplotlib.pyplot as plt\n",
    "from sklearn.model_selection import train_test_split, GridSearchCV\n",
    "from sklearn.ensemble import RandomForestClassifier\n",
    "from sklearn.linear_model import LogisticRegression\n",
    "from sklearn.svm import SVC\n",
    "from sklearn.metrics import accuracy_score, classification_report\n",
    "import nltk\n",
    "from collections import Counter\n",
    "from textstat import textstat\n",
    "from sklearn.utils import resample\n",
    "from sklearn.pipeline import Pipeline\n",
    "from sklearn.compose import ColumnTransformer\n",
    "from sklearn.preprocessing import FunctionTransformer\n",
    "from sklearn.feature_extraction.text import TfidfVectorizer\n",
    "\n",
    "# NLTK imports\n",
    "import nltk\n",
    "from nltk.tokenize import word_tokenize, sent_tokenize\n",
    "from nltk.corpus import stopwords\n",
    "from nltk.sentiment.vader import SentimentIntensityAnalyzer\n",
    "\n",
    "# NLTK downloads\n",
    "nltk.download(\"punkt\")\n",
    "nltk.download(\"stopwords\")\n",
    "nltk.download(\"vader_lexicon\")\n",
    "\n",
    "# Ignore warnings\n",
    "warnings.filterwarnings('ignore')\n"
   ]
  },
  {
   "cell_type": "code",
   "execution_count": 128,
   "metadata": {},
   "outputs": [
    {
     "data": {
      "text/html": [
       "<div>\n",
       "<style scoped>\n",
       "    .dataframe tbody tr th:only-of-type {\n",
       "        vertical-align: middle;\n",
       "    }\n",
       "\n",
       "    .dataframe tbody tr th {\n",
       "        vertical-align: top;\n",
       "    }\n",
       "\n",
       "    .dataframe thead th {\n",
       "        text-align: right;\n",
       "    }\n",
       "</style>\n",
       "<table border=\"1\" class=\"dataframe\">\n",
       "  <thead>\n",
       "    <tr style=\"text-align: right;\">\n",
       "      <th></th>\n",
       "      <th>Comment</th>\n",
       "      <th>Sentiment</th>\n",
       "    </tr>\n",
       "  </thead>\n",
       "  <tbody>\n",
       "    <tr>\n",
       "      <th>0</th>\n",
       "      <td>lets not forget that apple pay in 2014 require...</td>\n",
       "      <td>neutral</td>\n",
       "    </tr>\n",
       "    <tr>\n",
       "      <th>1</th>\n",
       "      <td>here in nz 50 of retailers don’t even have con...</td>\n",
       "      <td>negative</td>\n",
       "    </tr>\n",
       "    <tr>\n",
       "      <th>2</th>\n",
       "      <td>i will forever acknowledge this channel with t...</td>\n",
       "      <td>positive</td>\n",
       "    </tr>\n",
       "    <tr>\n",
       "      <th>3</th>\n",
       "      <td>whenever i go to a place that doesn’t take app...</td>\n",
       "      <td>negative</td>\n",
       "    </tr>\n",
       "    <tr>\n",
       "      <th>4</th>\n",
       "      <td>apple pay is so convenient secure and easy to ...</td>\n",
       "      <td>positive</td>\n",
       "    </tr>\n",
       "  </tbody>\n",
       "</table>\n",
       "</div>"
      ],
      "text/plain": [
       "                                             Comment Sentiment\n",
       "0  lets not forget that apple pay in 2014 require...   neutral\n",
       "1  here in nz 50 of retailers don’t even have con...  negative\n",
       "2  i will forever acknowledge this channel with t...  positive\n",
       "3  whenever i go to a place that doesn’t take app...  negative\n",
       "4  apple pay is so convenient secure and easy to ...  positive"
      ]
     },
     "execution_count": 128,
     "metadata": {},
     "output_type": "execute_result"
    }
   ],
   "source": [
    "df = pd.read_csv('YoutubeCommentsDataSet.csv')\n",
    "df.head()"
   ]
  },
  {
   "cell_type": "markdown",
   "metadata": {},
   "source": [
    "### Wyodrębnienie zbioru walidacyjnego"
   ]
  },
  {
   "cell_type": "code",
   "execution_count": 129,
   "metadata": {},
   "outputs": [],
   "source": [
    "from sklearn.model_selection import train_test_split\n",
    "\n",
    "# split the dataset into train (85%) and validation (15%)\n",
    "df, validation_df = train_test_split(df, test_size=0.15, stratify=df['Sentiment'], random_state=42)\n",
    "\n",
    "validation_df.to_csv(\"validation_set.csv\", index=False)"
   ]
  },
  {
   "cell_type": "markdown",
   "metadata": {},
   "source": [
    "# Preprocessing"
   ]
  },
  {
   "cell_type": "markdown",
   "metadata": {},
   "source": [
    "Postanowiłyśmy z ramki danych usunąc wartości puste oraz występujące bezpośredni po sobie komentarze zduplikowane. \n",
    "\n",
    "W danych treninowych usunęłyśmy także stopwords z wyjątkiem negacji, które mogą mieć duży wpływ na przewidywany sentyment. Komentarze były także poddane lematyzacji. Usunięcie stopwords i lematyzację naniosłyśmy na dodatkową kolumnę Comment_preprocessed, gdyż potrzebna jest ona dalej w inżynierii cech."
   ]
  },
  {
   "cell_type": "code",
   "execution_count": 130,
   "metadata": {},
   "outputs": [
    {
     "name": "stderr",
     "output_type": "stream",
     "text": [
      "[nltk_data] Downloading package wordnet to /Users/lila/nltk_data...\n",
      "[nltk_data]   Package wordnet is already up-to-date!\n",
      "[nltk_data] Downloading package omw-1.4 to /Users/lila/nltk_data...\n",
      "[nltk_data]   Package omw-1.4 is already up-to-date!\n",
      "[nltk_data] Downloading package punkt to /Users/lila/nltk_data...\n",
      "[nltk_data]   Package punkt is already up-to-date!\n"
     ]
    }
   ],
   "source": [
    "from nltk.stem import WordNetLemmatizer\n",
    "nltk.download('wordnet')  # Download WordNet corpus\n",
    "nltk.download('omw-1.4')  # Optional: Better word sense\n",
    "nltk.download('punkt')\n",
    "\n",
    "wnl = WordNetLemmatizer()\n",
    "\n",
    "def preprocess_text(text):\n",
    "    # Get all stopwords but preserve negations\n",
    "    all_stop_words = set()\n",
    "    for lang in stopwords.fileids():\n",
    "        all_stop_words.update(stopwords.words(lang))  \n",
    "\n",
    "    # Stopwords, które nie są usuwane\n",
    "    negation_words = {\"no\", \"not\", \"never\", \"none\", \"nowhere\", \"nobody\", \"nothing\", \"neither\", \"nor\", \n",
    "                    \"isn't\", \"wasn't\", \"weren't\", \"doesn't\", \"don't\", \"didn't\", \"hasn't\", \"haven't\", \n",
    "                    \"hadn't\", \"won't\", \"wouldn't\", \"shan't\", \"shouldn't\", \"can't\", \"couldn't\", \"mustn't\"}\n",
    "\n",
    "    # Remove stopwords except negations\n",
    "    filtered_stop_words = all_stop_words - negation_words  \n",
    "\n",
    "    words = word_tokenize(text.lower())  # Tokenize & lowercase\n",
    "    filtered_words = [wnl.lemmatize(word) for word in words if word.isalnum() and word not in filtered_stop_words]  \n",
    "    return ' '.join(filtered_words)  # Join words back into a sentence"
   ]
  },
  {
   "cell_type": "code",
   "execution_count": 131,
   "metadata": {},
   "outputs": [],
   "source": [
    "def preprocess_data(df):\n",
    "    \n",
    "    df = df.dropna()\n",
    "\n",
    "    # dropping consecutive duplicates\n",
    "    df = df.loc[df['Comment'] != df['Comment'].shift()].reset_index(drop=True)\n",
    "\n",
    "    df['Comment_preprocessed'] = df['Comment'].apply(preprocess_text)\n",
    "    df['Comment_preprocessed'] = df['Comment_preprocessed'].apply(lambda x: re.sub(r'\\d+', '', x))\n",
    "\n",
    "    return df"
   ]
  },
  {
   "cell_type": "markdown",
   "metadata": {},
   "source": [
    "# Funkcje do obróbki danych, inżynieria cech"
   ]
  },
  {
   "cell_type": "markdown",
   "metadata": {},
   "source": [
    "W kontekście naszych danych stwierdziłyśmy, że przydatne będą następujące cechy:\n",
    "- Sentiment_Score_nltk (ciągły wskaźnik sentymentu komentarza o warotściach [-1, 1])\n",
    "- Comment_length (długość komentarza)\n",
    "- Starts_with_i (czy komentarz zaczyna się od I)\n",
    "- Personal_Pronoun_count (liczba zaimków osobowych, takich jak he, she, i, etc.)\n",
    "- Number_of_phrases (czyli podział komentarza według spójników \"but\", \"and\", \"because\")\n",
    "- Avg_phrase_length (średnia długość frazy)\n",
    "- Number_of_words (liczba słów)\n",
    "- Avg_word_length (średnia długość słów)\n",
    "- Unique_word_ratio (stosunek liczby unikalnych słów do wszystkich słów, im większa tym bardziej rozbudowane słownictwo)\n",
    "- Readibility_Score (wskaźnik czytelności tekstu mierzony za pomocą Flesch Reading Ease)\n",
    "- Negation_Count (ilość negacji w komentarzu, czyli słów, które wprowadzają zaprzeczenie np. \"not\",\"never\",\"nobody\",\"dont\" itp.)\n",
    "- Rare_Word_Count (Liczenie rzadkich słów na podstawie ich częstotliwości w całym zbiorze danych)\n"
   ]
  },
  {
   "cell_type": "markdown",
   "metadata": {},
   "source": [
    "### Zmienna Sentiment_Score_nltk"
   ]
  },
  {
   "cell_type": "code",
   "execution_count": 132,
   "metadata": {},
   "outputs": [],
   "source": [
    "# Funkcja do obliczania Sentiment Score za pomocą NLTK\n",
    "sia = SentimentIntensityAnalyzer()\n",
    "def sentiment_score(comment):\n",
    "    return sia.polarity_scores(comment)['compound']"
   ]
  },
  {
   "cell_type": "markdown",
   "metadata": {},
   "source": [
    "### Zmienna Personal_Pronun_Count"
   ]
  },
  {
   "cell_type": "code",
   "execution_count": 133,
   "metadata": {},
   "outputs": [],
   "source": [
    "# Funkcja do liczenia liczby zaimków osobistych\n",
    "personal_pronouns = {\"i\", \"me\", \"my\", \"mine\", \"myself\", \"we\", \"us\", \"our\", \"ours\", \"ourselves\",\n",
    "                     \"you\", \"your\", \"yours\", \"yourself\", \"yourselves\", \"he\", \"him\", \"his\", \"himself\",\n",
    "                     \"she\", \"her\", \"hers\", \"herself\", \"it\", \"its\", \"itself\", \"they\", \"them\", \"their\",\n",
    "                     \"theirs\", \"themselves\"}\n",
    "\n",
    "def count_personal_pronouns(comment):\n",
    "    words = word_tokenize(comment.lower())\n",
    "    return sum(1 for word in words if word in personal_pronouns)"
   ]
  },
  {
   "cell_type": "markdown",
   "metadata": {},
   "source": [
    "### Zmienne Number_of_phrases, Number_of_words, Avg_phrase_length, Avg_word_length, Unique_word_ratio"
   ]
  },
  {
   "cell_type": "code",
   "execution_count": 134,
   "metadata": {},
   "outputs": [],
   "source": [
    "# Funkcja do analizy złożoności zdań (np. liczba fraz, słów)\n",
    "connectors = [\"and\", \"but\", \"so\", \"because\", \"which\", \"that\", \"then\", \"if\", \"or\"]\n",
    "def sentence_complexity(comment):\n",
    "    words = word_tokenize(comment)\n",
    "    phrases = re.split(r'\\b(?:' + '|'.join(connectors) + r')\\b', comment)\n",
    "\n",
    "    num_words = len(words)\n",
    "    num_phrases = len(phrases)\n",
    "\n",
    "    avg_word_length = np.mean([len(word) for word in words]) if words else 0\n",
    "    avg_phrase_length = num_words / num_phrases if num_phrases > 0 else 0\n",
    "    unique_word_ratio = len(set(words)) / num_words if num_words > 0 else 0\n",
    "\n",
    "    return {\n",
    "        \"Number_of_phrases\": num_phrases,\n",
    "        \"Number_of_words\": num_words,\n",
    "        \"Avg_phrase_length\": avg_phrase_length,\n",
    "        \"Avg_word_length\": avg_word_length,\n",
    "        \"Unique_word_ratio\": unique_word_ratio\n",
    "    }\n"
   ]
  },
  {
   "cell_type": "markdown",
   "metadata": {},
   "source": [
    "### Zmienna Readability_Score"
   ]
  },
  {
   "cell_type": "code",
   "execution_count": 135,
   "metadata": {},
   "outputs": [],
   "source": [
    "# Funkcja do obliczania readability score\n",
    "def readability_score(comment):\n",
    "    return textstat.flesch_reading_ease(comment)"
   ]
  },
  {
   "cell_type": "markdown",
   "metadata": {},
   "source": [
    "### Zmienna Negation_Count"
   ]
  },
  {
   "cell_type": "code",
   "execution_count": 136,
   "metadata": {},
   "outputs": [],
   "source": [
    "# Funkcja do liczenia negacji\n",
    "def negation_count(comment):\n",
    "    negations = {\"not\", \"never\", \"no\", \"none\", \"cannot\", \"nothing\",\"dont\",\"nah\",'wont','cant','doesnt','shouldnt',\"shouldn't\",\"doesn't\"\n",
    "                 \"don't\",\"won't\",\"wouldn't\", \"can't\",\"nobody\",'neither','nope',\"ain't\",\"nowhere\",'wouldnt'}\n",
    "    words = word_tokenize(comment.lower())\n",
    "    return sum(1 for word in words if word in negations)"
   ]
  },
  {
   "cell_type": "markdown",
   "metadata": {},
   "source": [
    "### Zmienna Rare_Word_Count"
   ]
  },
  {
   "cell_type": "code",
   "execution_count": 137,
   "metadata": {},
   "outputs": [],
   "source": [
    "# Funkcja do liczenia rzadkich słów\n",
    "def rare_word_count(comment, all_words):\n",
    "    words = word_tokenize(comment.lower())\n",
    "    rare_words = [word for word in words if all_words[word] < 10]  # Możemy dostosować próg (tutaj <10)\n",
    "    return len(rare_words)"
   ]
  },
  {
   "cell_type": "markdown",
   "metadata": {},
   "source": [
    "Przygotowujemy cechy"
   ]
  },
  {
   "cell_type": "code",
   "execution_count": 138,
   "metadata": {},
   "outputs": [],
   "source": [
    "def prepare_features(df):\n",
    "    # Ensure 'Comment' column is string and handle NaNs\n",
    "    df['Comment'] = df['Comment'].fillna('').astype(str)\n",
    "\n",
    "    df['Sentiment_Score_nltk'] = df['Comment'].apply(sentiment_score)\n",
    "    df['Starts_with_i'] = df['Comment'].str.startswith(\"i\")\n",
    "    df['Comment_Length'] = df['Comment'].str.len()\n",
    "\n",
    "    df[\"Personal_Pronoun_count\"] = df[\"Comment\"].apply(count_personal_pronouns)\n",
    "    df[\"Readability_Score\"] = df[\"Comment\"].apply(readability_score)\n",
    "    df[\"Negation_Count\"] = df[\"Comment\"].apply(negation_count)\n",
    "\n",
    "    df_complexity = df[\"Comment\"].apply(lambda x: sentence_complexity(x))\n",
    "    df_complexity = pd.DataFrame(df_complexity.tolist(), index=df.index)\n",
    "    df = pd.concat([df, df_complexity], axis=1)\n",
    "\n",
    "    # Rare word count\n",
    "    all_words = Counter(' '.join(df['Comment']).lower().split())\n",
    "    df['Rare_Word_Count'] = df['Comment'].apply(lambda x: rare_word_count(x, all_words))\n",
    "\n",
    "    return df\n"
   ]
  },
  {
   "cell_type": "markdown",
   "metadata": {},
   "source": [
    "# Pipeline"
   ]
  },
  {
   "cell_type": "code",
   "execution_count": 139,
   "metadata": {},
   "outputs": [],
   "source": [
    "df = preprocess_data(df)"
   ]
  },
  {
   "cell_type": "code",
   "execution_count": 140,
   "metadata": {},
   "outputs": [
    {
     "name": "stdout",
     "output_type": "stream",
     "text": [
      "Test accuracy: 0.7053\n"
     ]
    }
   ],
   "source": [
    "from imblearn.pipeline import Pipeline\n",
    "from imblearn.over_sampling import SMOTE\n",
    "from sklearn.feature_extraction.text import TfidfVectorizer\n",
    "from sklearn.linear_model import LogisticRegression\n",
    "from sklearn.model_selection import train_test_split\n",
    "from sklearn.preprocessing import FunctionTransformer\n",
    "    \n",
    "# Podział na zbiór treningowy i walidacyjny\n",
    "df_train, df_test = train_test_split(df, test_size=0.3, random_state=0)\n",
    "\n",
    "X_train = df_train.drop(columns=['Sentiment'])\n",
    "y_train = df_train['Sentiment']\n",
    "X_test = df_test.drop(columns=['Sentiment'])\n",
    "y_test = df_test['Sentiment']\n",
    "\n",
    "pipe = Pipeline([\n",
    "    ('feature_eng', FunctionTransformer(prepare_features, validate=False)),\n",
    "    ('select_text', FunctionTransformer(lambda x: x['Comment_preprocessed'], validate=False)),\n",
    "    ('tfidf', TfidfVectorizer()),\n",
    "    ('smote', SMOTE(random_state=0)),\n",
    "    ('classifier', LogisticRegression())\n",
    "])\n",
    "\n",
    "# Fit and evaluate\n",
    "pipe.fit(X_train, y_train)\n",
    "accuracy = pipe.score(X_test, y_test)\n",
    "print(f\"Test accuracy: {accuracy:.4f}\")\n"
   ]
  },
  {
   "cell_type": "markdown",
   "metadata": {},
   "source": [
    "# Test podstawowych modeli"
   ]
  },
  {
   "cell_type": "markdown",
   "metadata": {},
   "source": [
    "Z podstawowych modeli, k†óre testowałyśmy była regrecja liniowa. Pomimo dobrych wyników na zbiorze treningowym, model Random Forest przewiduje bardzo źle, co wsakzuje na jego przetrenowanie."
   ]
  },
  {
   "cell_type": "code",
   "execution_count": 143,
   "metadata": {},
   "outputs": [],
   "source": [
    "def full_preprocessing_pipeline(df):\n",
    "    df = preprocess_data(df)        # Text cleaning, stopword removal, lemmatization\n",
    "    df = prepare_features(df)       # Feature engineering\n",
    "    return df"
   ]
  },
  {
   "cell_type": "code",
   "execution_count": 151,
   "metadata": {},
   "outputs": [
    {
     "name": "stdout",
     "output_type": "stream",
     "text": [
      "\n",
      "=== Logistic Regression ===\n",
      "\n",
      "-- Train Data --\n",
      "Accuracy: 0.9025\n",
      "              precision    recall  f1-score   support\n",
      "\n",
      "    negative       0.79      0.95      0.86      1372\n",
      "     neutral       0.83      0.90      0.86      2746\n",
      "    positive       0.97      0.89      0.93      6805\n",
      "\n",
      "    accuracy                           0.90     10923\n",
      "   macro avg       0.86      0.91      0.88     10923\n",
      "weighted avg       0.91      0.90      0.90     10923\n",
      "\n",
      "\n",
      "=== Random Forest ===\n",
      "\n",
      "-- Train Data --\n",
      "Accuracy: 0.9999\n",
      "              precision    recall  f1-score   support\n",
      "\n",
      "    negative       1.00      1.00      1.00      1372\n",
      "     neutral       1.00      1.00      1.00      2746\n",
      "    positive       1.00      1.00      1.00      6805\n",
      "\n",
      "    accuracy                           1.00     10923\n",
      "   macro avg       1.00      1.00      1.00     10923\n",
      "weighted avg       1.00      1.00      1.00     10923\n",
      "\n",
      "\n",
      "=== K Nearest Neighbours ===\n",
      "\n",
      "-- Train Data --\n",
      "Accuracy: 0.5706\n",
      "              precision    recall  f1-score   support\n",
      "\n",
      "    negative       0.36      0.99      0.53      1372\n",
      "     neutral       0.53      0.90      0.67      2746\n",
      "    positive       0.98      0.35      0.52      6805\n",
      "\n",
      "    accuracy                           0.57     10923\n",
      "   macro avg       0.62      0.75      0.57     10923\n",
      "weighted avg       0.79      0.57      0.56     10923\n",
      "\n",
      "\n",
      "=== Support Vector Machine ===\n",
      "\n",
      "-- Train Data --\n",
      "Accuracy: 0.8179\n",
      "              precision    recall  f1-score   support\n",
      "\n",
      "    negative       0.66      0.88      0.75      1372\n",
      "     neutral       0.69      0.80      0.74      2746\n",
      "    positive       0.94      0.81      0.87      6805\n",
      "\n",
      "    accuracy                           0.82     10923\n",
      "   macro avg       0.76      0.83      0.79     10923\n",
      "weighted avg       0.84      0.82      0.82     10923\n",
      "\n",
      "\n",
      "=== Decision Tree ===\n",
      "\n",
      "-- Train Data --\n",
      "Accuracy: 0.9999\n",
      "              precision    recall  f1-score   support\n",
      "\n",
      "    negative       1.00      1.00      1.00      1372\n",
      "     neutral       1.00      1.00      1.00      2746\n",
      "    positive       1.00      1.00      1.00      6805\n",
      "\n",
      "    accuracy                           1.00     10923\n",
      "   macro avg       1.00      1.00      1.00     10923\n",
      "weighted avg       1.00      1.00      1.00     10923\n",
      "\n",
      "\n",
      "=== Extra Trees ===\n",
      "\n",
      "-- Train Data --\n",
      "Accuracy: 0.9999\n",
      "              precision    recall  f1-score   support\n",
      "\n",
      "    negative       1.00      1.00      1.00      1372\n",
      "     neutral       1.00      1.00      1.00      2746\n",
      "    positive       1.00      1.00      1.00      6805\n",
      "\n",
      "    accuracy                           1.00     10923\n",
      "   macro avg       1.00      1.00      1.00     10923\n",
      "weighted avg       1.00      1.00      1.00     10923\n",
      "\n",
      "\n",
      "=== LightGBM ===\n",
      "[LightGBM] [Info] Auto-choosing row-wise multi-threading, the overhead of testing was 0.143792 seconds.\n",
      "You can set `force_row_wise=true` to remove the overhead.\n",
      "And if memory is not enough, you can set `force_col_wise=true`.\n",
      "[LightGBM] [Info] Total Bins 92902\n",
      "[LightGBM] [Info] Number of data points in the train set: 20415, number of used features: 3380\n",
      "[LightGBM] [Info] Start training from score -1.098612\n",
      "[LightGBM] [Info] Start training from score -1.098612\n",
      "[LightGBM] [Info] Start training from score -1.098612\n",
      "\n",
      "-- Train Data --\n",
      "Accuracy: 0.8587\n",
      "              precision    recall  f1-score   support\n",
      "\n",
      "    negative       0.79      0.81      0.80      1372\n",
      "     neutral       0.76      0.80      0.78      2746\n",
      "    positive       0.92      0.89      0.91      6805\n",
      "\n",
      "    accuracy                           0.86     10923\n",
      "   macro avg       0.82      0.83      0.83     10923\n",
      "weighted avg       0.86      0.86      0.86     10923\n",
      "\n"
     ]
    }
   ],
   "source": [
    "from sklearn.compose import ColumnTransformer\n",
    "from imblearn.pipeline import Pipeline as ImbPipeline\n",
    "from sklearn.preprocessing import StandardScaler, FunctionTransformer\n",
    "from sklearn.feature_extraction.text import TfidfVectorizer\n",
    "from imblearn.over_sampling import SMOTE\n",
    "\n",
    "from sklearn.linear_model import LogisticRegression\n",
    "from sklearn.ensemble import RandomForestClassifier, ExtraTreesClassifier\n",
    "from sklearn.neighbors import KNeighborsClassifier\n",
    "from sklearn.naive_bayes import MultinomialNB\n",
    "from sklearn.svm import SVC\n",
    "from sklearn.tree import DecisionTreeClassifier\n",
    "from lightgbm import LGBMClassifier\n",
    "from xgboost import XGBClassifier\n",
    "\n",
    "models = {\n",
    "    'Logistic Regression': LogisticRegression(max_iter=1000),\n",
    "    'Random Forest': RandomForestClassifier(),\n",
    "    'K Nearest Neighbours': KNeighborsClassifier(),\n",
    "    'Support Vector Machine': SVC(),\n",
    "    'Decision Tree': DecisionTreeClassifier(),\n",
    "    'Extra Trees': ExtraTreesClassifier(),\n",
    "    'LightGBM': LGBMClassifier()\n",
    "}\n",
    "\n",
    "numeric_columns = [\n",
    "    'Sentiment_Score_nltk',\n",
    "    'Starts_with_i',\n",
    "    'Comment_Length',\n",
    "    'Personal_Pronoun_count',\n",
    "    'Readability_Score',\n",
    "    'Negation_Count',\n",
    "    'Avg_word_length',\n",
    "    'Avg_phrase_length',\n",
    "    'Unique_word_ratio',\n",
    "    'Rare_Word_Count'\n",
    "]\n",
    "\n",
    "text_column = 'Comment_preprocessed'\n",
    "\n",
    "preprocessor = ColumnTransformer(\n",
    "    transformers=[\n",
    "        ('text', TfidfVectorizer(), text_column),\n",
    "        ('num', StandardScaler(), numeric_columns)\n",
    "    ]\n",
    ")\n",
    "\n",
    "for name, model in models.items():\n",
    "    print(f\"\\n=== {name} ===\")\n",
    "\n",
    "    pipe = ImbPipeline([\n",
    "        ('preprocessing', FunctionTransformer(full_preprocessing_pipeline, validate=False)),\n",
    "        ('preprocess', preprocessor),\n",
    "        ('smote', SMOTE(random_state=0)),\n",
    "        ('classifier', model)\n",
    "    ])\n",
    "\n",
    "    pipe.fit(X_train, y_train)\n",
    "\n",
    "    y_train_pred = pipe.predict(X_train)\n",
    "    y_test_pred = pipe.predict(X_test)\n",
    "\n",
    "    print(\"\\n-- Train Data --\")\n",
    "    print(f\"Accuracy: {accuracy_score(y_train, y_train_pred):.4f}\")\n",
    "    print(classification_report(y_train, y_train_pred))\n"
   ]
  }
 ],
 "metadata": {
  "kernelspec": {
   "display_name": "venv",
   "language": "python",
   "name": "python3"
  },
  "language_info": {
   "codemirror_mode": {
    "name": "ipython",
    "version": 3
   },
   "file_extension": ".py",
   "mimetype": "text/x-python",
   "name": "python",
   "nbconvert_exporter": "python",
   "pygments_lexer": "ipython3",
   "version": "3.11.5"
  }
 },
 "nbformat": 4,
 "nbformat_minor": 2
}
