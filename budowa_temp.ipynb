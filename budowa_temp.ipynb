{
 "cells": [
  {
   "cell_type": "code",
   "execution_count": 125,
   "metadata": {},
   "outputs": [
    {
     "name": "stderr",
     "output_type": "stream",
     "text": [
      "[nltk_data] Downloading package punkt to /Users/lila/nltk_data...\n",
      "[nltk_data]   Package punkt is already up-to-date!\n",
      "[nltk_data] Downloading package stopwords to /Users/lila/nltk_data...\n",
      "[nltk_data]   Package stopwords is already up-to-date!\n",
      "[nltk_data] Downloading package vader_lexicon to\n",
      "[nltk_data]     /Users/lila/nltk_data...\n",
      "[nltk_data]   Package vader_lexicon is already up-to-date!\n"
     ]
    }
   ],
   "source": [
    "import pandas as pd\n",
    "import numpy as np\n",
    "import re\n",
    "import pickle\n",
    "import string\n",
    "import warnings\n",
    "import seaborn as sns\n",
    "import matplotlib.pyplot as plt\n",
    "from sklearn.model_selection import train_test_split, GridSearchCV\n",
    "from sklearn.ensemble import RandomForestClassifier\n",
    "from sklearn.linear_model import LogisticRegression\n",
    "from sklearn.svm import SVC\n",
    "from sklearn.metrics import accuracy_score, classification_report\n",
    "import nltk\n",
    "from collections import Counter\n",
    "from textstat import textstat\n",
    "from sklearn.utils import resample\n",
    "from sklearn.pipeline import Pipeline\n",
    "from sklearn.compose import ColumnTransformer\n",
    "from sklearn.preprocessing import FunctionTransformer\n",
    "from sklearn.feature_extraction.text import TfidfVectorizer\n",
    "\n",
    "# NLTK imports\n",
    "import nltk\n",
    "from nltk.tokenize import word_tokenize, sent_tokenize\n",
    "from nltk.corpus import stopwords\n",
    "from nltk.sentiment.vader import SentimentIntensityAnalyzer\n",
    "\n",
    "# NLTK downloads\n",
    "nltk.download(\"punkt\")\n",
    "nltk.download(\"stopwords\")\n",
    "nltk.download(\"vader_lexicon\")\n",
    "\n",
    "# Ignore warnings\n",
    "warnings.filterwarnings('ignore')\n"
   ]
  },
  {
   "cell_type": "code",
   "execution_count": 126,
   "metadata": {},
   "outputs": [],
   "source": [
    "df = pd.read_csv('YoutubeCommentsDataSet.csv')"
   ]
  },
  {
   "cell_type": "markdown",
   "metadata": {},
   "source": [
    "Wyodrębnienie zbioru walidacyjnego"
   ]
  },
  {
   "cell_type": "code",
   "execution_count": 127,
   "metadata": {},
   "outputs": [],
   "source": [
    "from sklearn.model_selection import train_test_split\n",
    "\n",
    "# split the dataset into train (85%) and validation (15%)\n",
    "df, validation_df = train_test_split(df, test_size=0.15, stratify=df['Sentiment'], random_state=42)\n",
    "\n",
    "validation_df.to_csv(\"validation_set.csv\", index=False)"
   ]
  },
  {
   "cell_type": "markdown",
   "metadata": {},
   "source": [
    "# Preprocessing"
   ]
  },
  {
   "cell_type": "code",
   "execution_count": 128,
   "metadata": {},
   "outputs": [
    {
     "name": "stderr",
     "output_type": "stream",
     "text": [
      "[nltk_data] Downloading package wordnet to /Users/lila/nltk_data...\n",
      "[nltk_data]   Package wordnet is already up-to-date!\n",
      "[nltk_data] Downloading package omw-1.4 to /Users/lila/nltk_data...\n",
      "[nltk_data]   Package omw-1.4 is already up-to-date!\n",
      "[nltk_data] Downloading package punkt to /Users/lila/nltk_data...\n",
      "[nltk_data]   Package punkt is already up-to-date!\n"
     ]
    }
   ],
   "source": [
    "from nltk.stem import WordNetLemmatizer\n",
    "nltk.download('wordnet')  # Download WordNet corpus\n",
    "nltk.download('omw-1.4')  # Optional: Better word sense\n",
    "nltk.download('punkt')\n",
    "\n",
    "wnl = WordNetLemmatizer()\n",
    "\n",
    "def preprocess_text(text):\n",
    "    # Get all stopwords but preserve negations\n",
    "    all_stop_words = set()\n",
    "    for lang in stopwords.fileids():\n",
    "        all_stop_words.update(stopwords.words(lang))  \n",
    "\n",
    "    # Stopwords, które nie są usuwane\n",
    "    negation_words = {\"no\", \"not\", \"never\", \"none\", \"nowhere\", \"nobody\", \"nothing\", \"neither\", \"nor\", \n",
    "                    \"isn't\", \"wasn't\", \"weren't\", \"doesn't\", \"don't\", \"didn't\", \"hasn't\", \"haven't\", \n",
    "                    \"hadn't\", \"won't\", \"wouldn't\", \"shan't\", \"shouldn't\", \"can't\", \"couldn't\", \"mustn't\"}\n",
    "\n",
    "    # Remove stopwords except negations\n",
    "    filtered_stop_words = all_stop_words - negation_words  \n",
    "\n",
    "    words = word_tokenize(text.lower())  # Tokenize & lowercase\n",
    "    filtered_words = [wnl.lemmatize(word) for word in words if word.isalnum() and word not in filtered_stop_words]  \n",
    "    return ' '.join(filtered_words)  # Join words back into a sentence"
   ]
  },
  {
   "cell_type": "code",
   "execution_count": 129,
   "metadata": {},
   "outputs": [],
   "source": [
    "def preprocess_data(df):\n",
    "    \n",
    "    df = df.dropna()\n",
    "\n",
    "    # dropping consecutive duplicates\n",
    "    df = df.loc[df['Comment'] != df['Comment'].shift()].reset_index(drop=True)\n",
    "\n",
    "    df['Comment_preprocessed'] = df['Comment'].apply(preprocess_text)\n",
    "    df['Comment_preprocessed'] = df['Comment_preprocessed'].apply(lambda x: re.sub(r'\\d+', '', x))\n",
    "\n",
    "    return df"
   ]
  },
  {
   "cell_type": "markdown",
   "metadata": {},
   "source": [
    "# Funkcje do obróbki danych, inżynieria cech"
   ]
  },
  {
   "cell_type": "code",
   "execution_count": 130,
   "metadata": {},
   "outputs": [],
   "source": [
    "# Funkcja do obliczania Sentiment Score za pomocą NLTK\n",
    "sia = SentimentIntensityAnalyzer()\n",
    "def sentiment_score(comment):\n",
    "    return sia.polarity_scores(comment)['compound']"
   ]
  },
  {
   "cell_type": "code",
   "execution_count": 131,
   "metadata": {},
   "outputs": [],
   "source": [
    "# Funkcja do liczenia liczby zaimków osobistych\n",
    "personal_pronouns = {\"i\", \"me\", \"my\", \"mine\", \"myself\", \"we\", \"us\", \"our\", \"ours\", \"ourselves\",\n",
    "                     \"you\", \"your\", \"yours\", \"yourself\", \"yourselves\", \"he\", \"him\", \"his\", \"himself\",\n",
    "                     \"she\", \"her\", \"hers\", \"herself\", \"it\", \"its\", \"itself\", \"they\", \"them\", \"their\",\n",
    "                     \"theirs\", \"themselves\"}\n",
    "\n",
    "def count_personal_pronouns(comment):\n",
    "    words = word_tokenize(comment.lower())\n",
    "    return sum(1 for word in words if word in personal_pronouns)"
   ]
  },
  {
   "cell_type": "code",
   "execution_count": 132,
   "metadata": {},
   "outputs": [],
   "source": [
    "# Funkcja do analizy złożoności zdań (np. liczba fraz, słów)\n",
    "connectors = [\"and\", \"but\", \"so\", \"because\", \"which\", \"that\", \"then\", \"if\", \"or\"]\n",
    "def sentence_complexity(comment):\n",
    "    words = word_tokenize(comment)\n",
    "    phrases = re.split(r'\\b(?:' + '|'.join(connectors) + r')\\b', comment)\n",
    "\n",
    "    num_words = len(words)\n",
    "    num_phrases = len(phrases)\n",
    "\n",
    "    avg_word_length = np.mean([len(word) for word in words]) if words else 0\n",
    "    avg_phrase_length = num_words / num_phrases if num_phrases > 0 else 0\n",
    "    unique_word_ratio = len(set(words)) / num_words if num_words > 0 else 0\n",
    "\n",
    "    return {\n",
    "        \"Number_of_phrases\": num_phrases,\n",
    "        \"Number_of_words\": num_words,\n",
    "        \"Avg_phrase_length\": avg_phrase_length,\n",
    "        \"Avg_word_length\": avg_word_length,\n",
    "        \"Unique_word_ratio\": unique_word_ratio\n",
    "    }\n"
   ]
  },
  {
   "cell_type": "code",
   "execution_count": 133,
   "metadata": {},
   "outputs": [],
   "source": [
    "# Funkcja do obliczania readability score\n",
    "def readability_score(comment):\n",
    "    return textstat.flesch_reading_ease(comment)"
   ]
  },
  {
   "cell_type": "code",
   "execution_count": 134,
   "metadata": {},
   "outputs": [],
   "source": [
    "# Funkcja do liczenia negacji\n",
    "def negation_count(comment):\n",
    "    negations = {\"not\", \"never\", \"no\", \"none\", \"cannot\", \"nothing\",\"dont\",\"nah\",'wont','cant','doesnt','shouldnt',\"shouldn't\",\"doesn't\"\n",
    "                 \"don't\",\"won't\",\"wouldn't\", \"can't\",\"nobody\",'neither','nope',\"ain't\",\"nowhere\",'wouldnt'}\n",
    "    words = word_tokenize(comment.lower())\n",
    "    return sum(1 for word in words if word in negations)"
   ]
  },
  {
   "cell_type": "code",
   "execution_count": 135,
   "metadata": {},
   "outputs": [],
   "source": [
    "# Funkcja do liczenia rzadkich słów\n",
    "def rare_word_count(comment, all_words):\n",
    "    words = word_tokenize(comment.lower())\n",
    "    rare_words = [word for word in words if all_words[word] < 10]  # Możemy dostosować próg (tutaj <10)\n",
    "    return len(rare_words)"
   ]
  },
  {
   "cell_type": "code",
   "execution_count": 136,
   "metadata": {},
   "outputs": [],
   "source": [
    "def prepare_features(df):\n",
    "    # Ensure 'Comment' column is string and handle NaNs\n",
    "    df['Comment'] = df['Comment'].fillna('').astype(str)\n",
    "\n",
    "    # Add features\n",
    "    df['Sentiment_Score_nltk'] = df['Comment'].apply(sentiment_score)\n",
    "    df['Starts_with_i'] = df['Comment'].str.startswith(\"i\")\n",
    "    df['Comment_Length'] = df['Comment'].str.len()\n",
    "\n",
    "    df[\"Personal_Pronoun_count\"] = df[\"Comment\"].apply(count_personal_pronouns)\n",
    "    df[\"Readability_Score\"] = df[\"Comment\"].apply(readability_score)\n",
    "    df[\"Negation_Count\"] = df[\"Comment\"].apply(negation_count)\n",
    "\n",
    "    # Sentence complexity (assuming returns dict or Series)\n",
    "    df_complexity = df[\"Comment\"].apply(lambda x: sentence_complexity(x))\n",
    "    df_complexity = pd.DataFrame(df_complexity.tolist(), index=df.index)\n",
    "    df = pd.concat([df, df_complexity], axis=1)\n",
    "\n",
    "    # Rare word counting\n",
    "    all_words = Counter(' '.join(df['Comment']).lower().split())\n",
    "    df['Rare_Word_Count'] = df['Comment'].apply(lambda x: rare_word_count(x, all_words))\n",
    "\n",
    "    return df\n"
   ]
  },
  {
   "cell_type": "markdown",
   "metadata": {},
   "source": [
    "# Pipeline"
   ]
  },
  {
   "cell_type": "code",
   "execution_count": 137,
   "metadata": {},
   "outputs": [],
   "source": [
    "df = preprocess_data(df)"
   ]
  },
  {
   "cell_type": "code",
   "execution_count": 138,
   "metadata": {},
   "outputs": [
    {
     "name": "stdout",
     "output_type": "stream",
     "text": [
      "Test accuracy: 0.7053\n"
     ]
    }
   ],
   "source": [
    "from imblearn.pipeline import Pipeline\n",
    "from imblearn.over_sampling import SMOTE\n",
    "from sklearn.feature_extraction.text import TfidfVectorizer\n",
    "from sklearn.linear_model import LogisticRegression\n",
    "from sklearn.model_selection import train_test_split\n",
    "from sklearn.preprocessing import FunctionTransformer\n",
    "    \n",
    "# Split data before creating X and y\n",
    "df_train, df_test = train_test_split(df, test_size=0.3, random_state=0)\n",
    "\n",
    "# Create X and y after splitting\n",
    "X_train = df_train.drop(columns=['Sentiment'])\n",
    "y_train = df_train['Sentiment']\n",
    "X_test = df_test.drop(columns=['Sentiment'])\n",
    "y_test = df_test['Sentiment']\n",
    "\n",
    "pipe = Pipeline([\n",
    "    ('feature_eng', FunctionTransformer(prepare_features, validate=False)),\n",
    "    ('select_text', FunctionTransformer(lambda x: x['Comment_preprocessed'], validate=False)),\n",
    "    ('tfidf', TfidfVectorizer()),\n",
    "    ('smote', SMOTE(random_state=0)),\n",
    "    ('classifier', LogisticRegression())\n",
    "])\n",
    "\n",
    "# Fit and evaluate\n",
    "pipe.fit(X_train, y_train)\n",
    "accuracy = pipe.score(X_test, y_test)\n",
    "print(f\"Test accuracy: {accuracy:.4f}\")\n"
   ]
  },
  {
   "cell_type": "code",
   "execution_count": null,
   "metadata": {},
   "outputs": [
    {
     "name": "stdout",
     "output_type": "stream",
     "text": [
      "\n",
      "=== Logistic Regression ===\n",
      "\n",
      "-- Train Data --\n",
      "Accuracy: 0.8819\n",
      "              precision    recall  f1-score   support\n",
      "\n",
      "    negative       0.76      0.96      0.85      1372\n",
      "     neutral       0.79      0.86      0.82      2746\n",
      "    positive       0.96      0.88      0.92      6805\n",
      "\n",
      "    accuracy                           0.88     10923\n",
      "   macro avg       0.84      0.90      0.86     10923\n",
      "weighted avg       0.89      0.88      0.88     10923\n",
      "\n",
      "-- Test Data --\n",
      "Accuracy: 0.7053\n",
      "              precision    recall  f1-score   support\n",
      "\n",
      "    negative       0.45      0.59      0.51       614\n",
      "     neutral       0.54      0.61      0.57      1184\n",
      "    positive       0.87      0.77      0.82      2884\n",
      "\n",
      "    accuracy                           0.71      4682\n",
      "   macro avg       0.62      0.66      0.63      4682\n",
      "weighted avg       0.73      0.71      0.72      4682\n",
      "\n",
      "\n",
      "=== Random Forest ===\n",
      "\n",
      "-- Train Data --\n",
      "Accuracy: 0.9972\n",
      "              precision    recall  f1-score   support\n",
      "\n",
      "    negative       1.00      1.00      1.00      1372\n",
      "     neutral       0.99      1.00      0.99      2746\n",
      "    positive       1.00      1.00      1.00      6805\n",
      "\n",
      "    accuracy                           1.00     10923\n",
      "   macro avg       1.00      1.00      1.00     10923\n",
      "weighted avg       1.00      1.00      1.00     10923\n",
      "\n",
      "-- Test Data --\n",
      "Accuracy: 0.6991\n",
      "              precision    recall  f1-score   support\n",
      "\n",
      "    negative       0.46      0.36      0.40       614\n",
      "     neutral       0.54      0.55      0.55      1184\n",
      "    positive       0.80      0.83      0.82      2884\n",
      "\n",
      "    accuracy                           0.70      4682\n",
      "   macro avg       0.60      0.58      0.59      4682\n",
      "weighted avg       0.69      0.70      0.69      4682\n",
      "\n",
      "\n",
      "=== SVM ===\n",
      "\n",
      "-- Train Data --\n",
      "Accuracy: 0.9948\n",
      "              precision    recall  f1-score   support\n",
      "\n",
      "    negative       1.00      1.00      1.00      1372\n",
      "     neutral       0.99      0.99      0.99      2746\n",
      "    positive       1.00      1.00      1.00      6805\n",
      "\n",
      "    accuracy                           0.99     10923\n",
      "   macro avg       0.99      0.99      0.99     10923\n",
      "weighted avg       0.99      0.99      0.99     10923\n",
      "\n",
      "-- Test Data --\n",
      "Accuracy: 0.7003\n",
      "              precision    recall  f1-score   support\n",
      "\n",
      "    negative       0.66      0.16      0.26       614\n",
      "     neutral       0.63      0.38      0.47      1184\n",
      "    positive       0.72      0.95      0.82      2884\n",
      "\n",
      "    accuracy                           0.70      4682\n",
      "   macro avg       0.67      0.50      0.52      4682\n",
      "weighted avg       0.69      0.70      0.66      4682\n",
      "\n",
      "\n",
      "=== Naive Bayes ===\n",
      "\n",
      "-- Train Data --\n",
      "Accuracy: 0.8529\n",
      "              precision    recall  f1-score   support\n",
      "\n",
      "    negative       0.61      0.96      0.75      1372\n",
      "     neutral       0.92      0.61      0.74      2746\n",
      "    positive       0.91      0.93      0.92      6805\n",
      "\n",
      "    accuracy                           0.85     10923\n",
      "   macro avg       0.81      0.83      0.80     10923\n",
      "weighted avg       0.87      0.85      0.85     10923\n",
      "\n",
      "-- Test Data --\n",
      "Accuracy: 0.7038\n",
      "              precision    recall  f1-score   support\n",
      "\n",
      "    negative       0.40      0.70      0.51       614\n",
      "     neutral       0.70      0.32      0.44      1184\n",
      "    positive       0.81      0.86      0.83      2884\n",
      "\n",
      "    accuracy                           0.70      4682\n",
      "   macro avg       0.64      0.63      0.60      4682\n",
      "weighted avg       0.73      0.70      0.69      4682\n",
      "\n"
     ]
    }
   ],
   "source": [
    "from sklearn.metrics import classification_report, accuracy_score\n",
    "from sklearn.linear_model import LogisticRegression\n",
    "from sklearn.ensemble import RandomForestClassifier\n",
    "from sklearn.svm import SVC\n",
    "from sklearn.naive_bayes import MultinomialNB\n",
    "from imblearn.pipeline import Pipeline\n",
    "from sklearn.preprocessing import FunctionTransformer\n",
    "from sklearn.feature_extraction.text import TfidfVectorizer\n",
    "from imblearn.over_sampling import SMOTE\n",
    "\n",
    "\n",
    "models = {\n",
    "    'Logistic Regression': LogisticRegression(max_iter=1000),\n",
    "    'Random Forest': RandomForestClassifier(),\n",
    "    'SVM': SVC(),\n",
    "    'Naive Bayes': MultinomialNB()\n",
    "}\n",
    "\n",
    "\n",
    "for name, model in models.items():\n",
    "    print(f\"\\n=== {name} ===\")\n",
    "    \n",
    "    pipe = Pipeline([\n",
    "        ('feature_eng', FunctionTransformer(prepare_features, validate=False)),\n",
    "        ('select_text', FunctionTransformer(lambda x: x['Comment_preprocessed'], validate=False)),\n",
    "        ('tfidf', TfidfVectorizer()),\n",
    "        ('smote', SMOTE(random_state=0)),\n",
    "        ('classifier', model)\n",
    "    ])\n",
    "\n",
    "    # Fit model\n",
    "    pipe.fit(X_train, y_train)\n",
    "\n",
    "    # Predict on train and test\n",
    "    y_train_pred = pipe.predict(X_train)\n",
    "    y_test_pred = pipe.predict(X_test)\n",
    "\n",
    "    # Evaluate on train data\n",
    "    print(\"\\n-- Train Data --\")\n",
    "    print(f\"Accuracy: {accuracy_score(y_train, y_train_pred):.4f}\")\n",
    "    print(classification_report(y_train, y_train_pred))\n",
    "\n",
    "    # Evaluate on test data\n",
    "    print(\"-- Test Data --\")\n",
    "    print(f\"Accuracy: {accuracy_score(y_test, y_test_pred):.4f}\")\n",
    "    print(classification_report(y_test, y_test_pred))\n"
   ]
  }
 ],
 "metadata": {
  "kernelspec": {
   "display_name": "venv",
   "language": "python",
   "name": "python3"
  },
  "language_info": {
   "codemirror_mode": {
    "name": "ipython",
    "version": 3
   },
   "file_extension": ".py",
   "mimetype": "text/x-python",
   "name": "python",
   "nbconvert_exporter": "python",
   "pygments_lexer": "ipython3",
   "version": "3.11.5"
  }
 },
 "nbformat": 4,
 "nbformat_minor": 2
}
