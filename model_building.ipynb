{
 "cells": [
  {
   "cell_type": "code",
   "execution_count": 1,
   "metadata": {},
   "outputs": [],
   "source": [
    "import pandas as pd\n",
    "import numpy as np\n",
    "import sklearn\n",
    "import seaborn as sns\n",
    "import matplotlib.pyplot as plt\n",
    "import matplotlib\n",
    "import warnings\n",
    "warnings.filterwarnings('ignore')\n",
    "np.random.seed(23)"
   ]
  },
  {
   "cell_type": "code",
   "execution_count": 2,
   "metadata": {},
   "outputs": [],
   "source": [
    "df = pd.read_pickle(\"processed_data.pkl\")"
   ]
  },
  {
   "cell_type": "code",
   "execution_count": 5,
   "metadata": {},
   "outputs": [
    {
     "name": "stdout",
     "output_type": "stream",
     "text": [
      "Sentiment\n",
      "positive    11054\n",
      "neutral      4503\n",
      "negative     2317\n",
      "Name: count, dtype: int64\n",
      "Sentiment\n",
      "neutral     11054\n",
      "negative    11054\n",
      "positive    11054\n",
      "Name: count, dtype: int64\n"
     ]
    }
   ],
   "source": [
    "import pandas as pd\n",
    "from sklearn.utils import resample\n",
    "\n",
    "# Check class distribution\n",
    "print(df[\"Sentiment\"].value_counts())\n",
    "\n",
    "# Separate majority and minority classes\n",
    "df_positive = df[df[\"Sentiment\"] == \"positive\"]\n",
    "df_negative = df[df[\"Sentiment\"] == \"negative\"]\n",
    "df_neutral = df[df[\"Sentiment\"] == \"neutral\"]\n",
    "\n",
    "# Set the desired sample size (same as the majority class)\n",
    "desired_size = len(df_positive)\n",
    "\n",
    "# Oversample the minority classes\n",
    "df_negative_oversampled = resample(df_negative, \n",
    "                                   replace=True,  # Sample with replacement\n",
    "                                   n_samples=desired_size,  # Match majority class size\n",
    "                                   random_state=42)\n",
    "\n",
    "df_neutral_oversampled = resample(df_neutral, \n",
    "                                  replace=True, \n",
    "                                  n_samples=desired_size, \n",
    "                                  random_state=42)\n",
    "\n",
    "# Combine all data back together\n",
    "df_balanced = pd.concat([df_positive, df_negative_oversampled, df_neutral_oversampled])\n",
    "\n",
    "# Shuffle the dataset\n",
    "df_balanced = df_balanced.sample(frac=1, random_state=42).reset_index(drop=True)\n",
    "\n",
    "# Check new class distribution\n",
    "print(df_balanced[\"Sentiment\"].value_counts())\n"
   ]
  }
 ],
 "metadata": {
  "kernelspec": {
   "display_name": "venv",
   "language": "python",
   "name": "python3"
  },
  "language_info": {
   "codemirror_mode": {
    "name": "ipython",
    "version": 3
   },
   "file_extension": ".py",
   "mimetype": "text/x-python",
   "name": "python",
   "nbconvert_exporter": "python",
   "pygments_lexer": "ipython3",
   "version": "3.11.5"
  }
 },
 "nbformat": 4,
 "nbformat_minor": 2
}
